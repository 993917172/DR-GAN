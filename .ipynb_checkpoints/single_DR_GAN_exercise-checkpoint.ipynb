{
 "cells": [
  {
   "cell_type": "markdown",
   "metadata": {},
   "source": [
    "# single_DR_GAN"
   ]
  },
  {
   "cell_type": "code",
   "execution_count": 2,
   "metadata": {
    "collapsed": false
   },
   "outputs": [],
   "source": [
    "import os\n",
    "import numpy as np\n",
    "import pandas as pd\n",
    "import torch\n",
    "from torch import nn, optim\n",
    "from torch.autograd import Variable\n",
    "import pdb\n"
   ]
  },
  {
   "cell_type": "markdown",
   "metadata": {},
   "source": [
    "## Discriminator の定義\n",
    "\n",
    "- 論文で用いられている  TensorFlow のConv オプション padding=\"SAME\"と同じ挙動を再現するために padding layer を間に追加\n",
    "- 入力は バッチ数(B)ｘ96x96x3\n",
    "- 個人の識別(Nd+1) と　姿勢の推定(Np)を同時に行う"
   ]
  },
  {
   "cell_type": "code",
   "execution_count": 3,
   "metadata": {
    "collapsed": false
   },
   "outputs": [],
   "source": [
    "class Discriminator(nn.Module):\n",
    "    def __init__(self, Nd, Np):\n",
    "        super(Discriminator, self).__init__()\n",
    "        convLayers = [\n",
    "            nn.Conv2d(3, 32, 3, 1, 1, bias=False), # Bx3x96x96 -> Bx32x96x96\n",
    "            nn.BatchNorm2d(32),\n",
    "            nn.ELU(),\n",
    "            nn.Conv2d(32, 64, 3, 1, 1, bias=False), # Bx32x96x96 -> Bx64x96x96\n",
    "            nn.BatchNorm2d(64),\n",
    "            nn.ELU(),\n",
    "            nn.ZeroPad2d((0, 1, 0, 1)),                      # Bx64x96x96 -> Bx64x97x97\n",
    "            nn.Conv2d(64, 64, 3, 2, 0, bias=False), # Bx64x97x97 -> Bx64x48x48\n",
    "            nn.BatchNorm2d(64),\n",
    "            nn.ELU(),\n",
    "            nn.Conv2d(64, 64, 3, 1, 1, bias=False), # Bx64x48x48 -> Bx64x48x48\n",
    "            nn.BatchNorm2d(64),\n",
    "            nn.ELU(),\n",
    "            nn.Conv2d(64, 128, 3, 1, 1, bias=False), # Bx64x48x48 -> Bx128x48x48\n",
    "            nn.BatchNorm2d(128),\n",
    "            nn.ELU(),\n",
    "            nn.ZeroPad2d((0, 1, 0, 1)),                      # Bx128x48x48 -> Bx128x49x49\n",
    "            nn.Conv2d(128, 128, 3, 2, 0, bias=False), #  Bx128x49x49 -> Bx128x24x24\n",
    "            nn.BatchNorm2d(128),\n",
    "            nn.ELU(),\n",
    "            nn.Conv2d(128, 96, 3, 1, 1, bias=False), #  Bx128x24x24 -> Bx96x24x24\n",
    "            nn.BatchNorm2d(96),\n",
    "            nn.ELU(),\n",
    "            nn.Conv2d(96, 192, 3, 1, 1, bias=False), #  Bx96x24x24 -> Bx192x24x24\n",
    "            nn.BatchNorm2d(192),\n",
    "            nn.ELU(),\n",
    "            nn.ZeroPad2d((0, 1, 0, 1)),                      # Bx192x24x24 -> Bx192x25x25\n",
    "            nn.Conv2d(192, 192, 3, 2, 0, bias=False), # Bx192x25x25 -> Bx192x12x12\n",
    "            nn.BatchNorm2d(192),\n",
    "            nn.ELU(),\n",
    "            nn.Conv2d(192, 128, 3, 1, 1, bias=False), # Bx192x12x12 -> Bx128x12x12\n",
    "            nn.BatchNorm2d(128),\n",
    "            nn.ELU(),\n",
    "            nn.Conv2d(128, 256, 3, 1, 1, bias=False), # Bx128x12x12 -> Bx256x12x12\n",
    "            nn.BatchNorm2d(256),\n",
    "            nn.ELU(),\n",
    "            nn.ZeroPad2d((0, 1, 0, 1)),                      # Bx256x12x12 -> Bx256x13x13\n",
    "            nn.Conv2d(256, 256, 3, 2, 0, bias=False),  # Bx256x13x13 -> Bx256x6x6\n",
    "            nn.BatchNorm2d(256),\n",
    "            nn.ELU(),\n",
    "            nn.Conv2d(256, 160, 3, 1, 1, bias=False), # Bx256x6x6 -> Bx160x6x6\n",
    "            nn.BatchNorm2d(160),\n",
    "            nn.ELU(),\n",
    "            nn.Conv2d(160, 320, 3, 1, 1, bias=False), # Bx160x6x6 -> Bx320x6x6\n",
    "            nn.BatchNorm2d(320),\n",
    "            nn.ELU(),\n",
    "            nn.AvgPool2d(6, stride=1), #  Bx320x6x6 -> Bx320x1x1\n",
    "        ]\n",
    "        \n",
    "        self.convLayers = nn.Sequential(*convLayers)\n",
    "        self.fc = nn.Linear(320, Nd+1+Np)\n",
    "        \n",
    "        # 重みは全て N(0, 0.02) で初期化\n",
    "        for m in self.modules():\n",
    "            if isinstance(m, nn.Conv2d):\n",
    "                m.weight.data.normal_(0, 0.02)\n",
    "                \n",
    "            elif isinstance(m, nn.Linear):\n",
    "                m.weight.data.normal_(0, 0.02)\n",
    "        \n",
    "    def forward(self, input):\n",
    "        # 畳み込み -> 平均プーリングの結果 B x 320 x 1 x 1の出力を得る\n",
    "        x = self.convLayers(input)\n",
    "        \n",
    "        # バッチ数次元を消さないように１次元の次元を削除　\n",
    "        x = x.squeeze(2)\n",
    "        x = x.squeeze(2)\n",
    "        \n",
    "        # 全結合 \n",
    "        x = self.fc(x) # Bx320 -> B x (Nd+1+Np)\n",
    "        \n",
    "        return x\n",
    "    "
   ]
  },
  {
   "cell_type": "markdown",
   "metadata": {},
   "source": [
    "# Generator の定義\n",
    "\n",
    "- G_enc は Discriminator と最後の全結合層が無い以外同じ構造\n",
    "- G_dec のアップサンプリング時は，ダウンサンプリング時に Zeropadding を行なったことの逆で，ConvTranspose2d 後に Crop（negative padding?)"
   ]
  },
  {
   "cell_type": "code",
   "execution_count": 4,
   "metadata": {
    "collapsed": true
   },
   "outputs": [],
   "source": [
    "## nn.Module を継承しても， super でコンストラクタを呼び出さないと メンバ変数 self._modues が\n",
    "## 定義されずに後の重み初期化の際にエラーを出す\n",
    "## sef._modules はモジュールが格納するモジュール名を格納しておくリスト\n",
    "\n",
    "class Crop(nn.Module):\n",
    "    def __init__(self, crop_list):\n",
    "        super().__init__()\n",
    "        \n",
    "        # crop_lsit = [crop_top, crop_bottom, crop_left, crop_right]\n",
    "        self.crop_list = crop_list\n",
    "            \n",
    "    def forward(self, x):\n",
    "        B,C,H,W = x.size()\n",
    "        x = x[:,:, self.crop_list[0] : H - self.crop_list[1] , self.crop_list[2] : W - self.crop_list[3]]\n",
    "        \n",
    "        return x"
   ]
  },
  {
   "cell_type": "code",
   "execution_count": 5,
   "metadata": {
    "collapsed": false
   },
   "outputs": [],
   "source": [
    "class Generator(nn.Module):\n",
    "    def __init__(self, Np, Nz):\n",
    "        super(Generator, self).__init__()\n",
    "        G_enc_convLayers = [\n",
    "            nn.Conv2d(3, 32, 3, 1, 1, bias=False), # Bx3x96x96 -> Bx32x96x96\n",
    "            nn.BatchNorm2d(32),\n",
    "            nn.ELU(),\n",
    "            nn.Conv2d(32, 64, 3, 1, 1, bias=False), # Bx32x96x96 -> Bx64x96x96\n",
    "            nn.BatchNorm2d(64),\n",
    "            nn.ELU(),\n",
    "            nn.ZeroPad2d((0, 1, 0, 1)),                      # Bx64x96x96 -> Bx64x97x97\n",
    "            nn.Conv2d(64, 64, 3, 2, 0, bias=False), # Bx64x97x97 -> Bx64x48x48\n",
    "            nn.BatchNorm2d(64),\n",
    "            nn.ELU(),\n",
    "            nn.Conv2d(64, 64, 3, 1, 1, bias=False), # Bx64x48x48 -> Bx64x48x48\n",
    "            nn.BatchNorm2d(64),\n",
    "            nn.ELU(),\n",
    "            nn.Conv2d(64, 128, 3, 1, 1, bias=False), # Bx64x48x48 -> Bx128x48x48\n",
    "            nn.BatchNorm2d(128),\n",
    "            nn.ELU(),\n",
    "            nn.ZeroPad2d((0, 1, 0, 1)),                      # Bx128x48x48 -> Bx128x49x49\n",
    "            nn.Conv2d(128, 128, 3, 2, 0, bias=False), #  Bx128x49x49 -> Bx128x24x24\n",
    "            nn.BatchNorm2d(128),\n",
    "            nn.ELU(),\n",
    "            nn.Conv2d(128, 96, 3, 1, 1, bias=False), #  Bx128x24x24 -> Bx96x24x24\n",
    "            nn.BatchNorm2d(96),\n",
    "            nn.ELU(),\n",
    "            nn.Conv2d(96, 192, 3, 1, 1, bias=False), #  Bx96x24x24 -> Bx192x24x24\n",
    "            nn.BatchNorm2d(192),\n",
    "            nn.ELU(),\n",
    "            nn.ZeroPad2d((0, 1, 0, 1)),                      # Bx192x24x24 -> Bx192x25x25\n",
    "            nn.Conv2d(192, 192, 3, 2, 0, bias=False), # Bx192x25x25 -> Bx192x12x12\n",
    "            nn.BatchNorm2d(192),\n",
    "            nn.ELU(),\n",
    "            nn.Conv2d(192, 128, 3, 1, 1, bias=False), # Bx192x12x12 -> Bx128x12x12\n",
    "            nn.BatchNorm2d(128),\n",
    "            nn.ELU(),\n",
    "            nn.Conv2d(128, 256, 3, 1, 1, bias=False), # Bx128x12x12 -> Bx256x12x12\n",
    "            nn.BatchNorm2d(256),\n",
    "            nn.ELU(),\n",
    "            nn.ZeroPad2d((0, 1, 0, 1)),                      # Bx256x12x12 -> Bx256x13x13\n",
    "            nn.Conv2d(256, 256, 3, 2, 0, bias=False),  # Bx256x13x13 -> Bx256x6x6\n",
    "            nn.BatchNorm2d(256),\n",
    "            nn.ELU(),\n",
    "            nn.Conv2d(256, 160, 3, 1, 1, bias=False), # Bx256x6x6 -> Bx160x6x6\n",
    "            nn.BatchNorm2d(160),\n",
    "            nn.ELU(),\n",
    "            nn.Conv2d(160, 320, 3, 1, 1, bias=False), # Bx160x6x6 -> Bx320x6x6\n",
    "            nn.BatchNorm2d(320),\n",
    "            nn.ELU(),\n",
    "            nn.AvgPool2d(6, stride=1), #  Bx320x6x6 -> Bx320x1x1\n",
    "            \n",
    "        ]\n",
    "        self.G_enc_convLayers = nn.Sequential(*G_enc_convLayers)\n",
    "        \n",
    "        G_dec_convLayers = [\n",
    "            nn.ConvTranspose2d(320,160, 3,1,1, bias=False), # Bx320x6x6 -> Bx160x6x6\n",
    "            nn.BatchNorm2d(160),\n",
    "            nn.ELU(),\n",
    "            nn.ConvTranspose2d(160, 256, 3,1,1, bias=False), # Bx160x6x6 -> Bx256x6x6\n",
    "            nn.BatchNorm2d(256),\n",
    "            nn.ELU(),\n",
    "            nn.ConvTranspose2d(256, 256, 3,2,0, bias=False), # Bx256x6x6 -> Bx256x13x13\n",
    "            nn.BatchNorm2d(256),\n",
    "            nn.ELU(),\n",
    "            Crop([0, 1, 0, 1]),\n",
    "            nn.ConvTranspose2d(256, 128, 3,1,1, bias=False), # Bx256x12x12 -> Bx128x12x12  \n",
    "            nn.BatchNorm2d(128),\n",
    "            nn.ELU(),\n",
    "            nn.ConvTranspose2d(128, 192,  3,1,1, bias=False), # Bx128x12x12 -> Bx192x12x12            \n",
    "            nn.BatchNorm2d(192),\n",
    "            nn.ELU(),\n",
    "            nn.ConvTranspose2d(192, 192,  3,2,0, bias=False), # Bx128x12x12 -> Bx192x25x25            \n",
    "            nn.BatchNorm2d(192),\n",
    "            nn.ELU(),\n",
    "            Crop([0, 1, 0, 1]),\n",
    "            nn.ConvTranspose2d(192, 96,  3,1,1, bias=False), # Bx192x24x24 -> Bx96x24x24 \n",
    "            nn.BatchNorm2d(96),\n",
    "            nn.ELU(),\n",
    "            nn.ConvTranspose2d(96, 128,  3,1,1, bias=False), # Bx96x24x24 -> Bx128x24x24\n",
    "            nn.BatchNorm2d(128),\n",
    "            nn.ELU(),\n",
    "            nn.ConvTranspose2d(128, 128,  3,2,0, bias=False), # Bx128x24x24 -> Bx128x49x49      \n",
    "            nn.BatchNorm2d(128),\n",
    "            nn.ELU(),\n",
    "            Crop([0, 1, 0, 1]),\n",
    "            nn.ConvTranspose2d(128, 64,  3,1,1, bias=False), # Bx128x48x48 -> Bx64x48x48\n",
    "            nn.BatchNorm2d(64),\n",
    "            nn.ELU(),\n",
    "            nn.ConvTranspose2d(64, 64,  3,1,1, bias=False), # Bx64x48x48 -> Bx64x48x48  \n",
    "            nn.BatchNorm2d(64),\n",
    "            nn.ELU(),\n",
    "            nn.ConvTranspose2d(64, 64,  3,2,0, bias=False), # Bx64x48x48 -> Bx64x97x97  \n",
    "            nn.BatchNorm2d(64),\n",
    "            nn.ELU(),\n",
    "            Crop([0, 1, 0, 1]),\n",
    "            nn.ConvTranspose2d(64, 32,  3,1,1, bias=False), # Bx64x96x96 -> Bx32x96x96 \n",
    "            nn.BatchNorm2d(32),\n",
    "            nn.ELU(),\n",
    "            nn.ConvTranspose2d(32, 3,  3,1,1, bias=False), # Bx32x96x96 -> Bx3x96x96 \n",
    "            nn.ELU(),\n",
    "        ]\n",
    "        \n",
    "        self.G_dec_convLayers = nn.Sequential(*G_dec_convLayers)\n",
    "        \n",
    "        self.G_dec_fc = nn.Linear(320+Np+Nz, 320*6*6)\n",
    "        \n",
    "        # 重みは全て N(0, 0.02) で初期化\n",
    "        for m in self.modules():\n",
    "            if isinstance(m, nn.Conv2d):\n",
    "                m.weight.data.normal_(0, 0.02)\n",
    "                \n",
    "            elif isinstance(m, nn.ConvTranspose2d):\n",
    "                m.weight.data.normal_(0, 0.02)\n",
    "                \n",
    "            elif isinstance(m, nn.Linear):\n",
    "                m.weight.data.normal_(0, 0.02)\n",
    "        \n",
    "        \n",
    "        \n",
    "    def forward(self, input, pose, noise):\n",
    "        \n",
    "        x = self.G_enc_convLayers(input) # Bx1x96x96 -> Bx320x1x1\n",
    "        \n",
    "        x = x.squeeze(2)\n",
    "        x = x.squeeze(2)\n",
    "\n",
    "        x = torch.cat([x, pose, noise], 1)  # Bx320 -> B x (320+Np+Nz)\n",
    "        \n",
    "        x = self.G_dec_fc(x) # B x (320+Np+Nz) -> B x (320x6x6)\n",
    "    \n",
    "        x = x.view(-1, 320, 6, 6) # B x (320x6x6) -> B x 320 x 6 x 6\n",
    "\n",
    "        x = self.G_dec_convLayers(x) #  B x 320 x 6 x 6 -> Bx1x96x96\n",
    "        \n",
    "        return x\n",
    "    "
   ]
  },
  {
   "cell_type": "markdown",
   "metadata": {},
   "source": [
    "# 画像の取得"
   ]
  },
  {
   "cell_type": "code",
   "execution_count": null,
   "metadata": {
    "collapsed": false
   },
   "outputs": [],
   "source": []
  },
  {
   "cell_type": "markdown",
   "metadata": {},
   "source": [
    "# ランダム入力データの生成"
   ]
  },
  {
   "cell_type": "code",
   "execution_count": 6,
   "metadata": {
    "collapsed": false
   },
   "outputs": [],
   "source": [
    "data_size = 50\n",
    "Nd = 200\n",
    "Np = 9\n",
    "\n",
    "images = np.random.randn(data_size, 3, 96,96)\n",
    "# id は0~199 と仮定\n",
    "id_labels = np.random.randint(Nd, size=data_size)\n",
    "pose_labels = np.random.randint(Np, size=data_size)\n",
    "syn_id_labels = (Nd+1)*np.ones(data_size).astype(int)\n",
    "\n",
    "# そもそも one-hot　である必要がなかった\n",
    "# # Generator の 生成画像用のラベルを追加して Nd+1 次元のone-hotに\n",
    "# id_labels = np.eye(Nd+1)[np.random.randint(Nd, size=640)]\n",
    "# pose_labels = np.eye(Np)[np.random.randint(Np, size=640)]\n",
    "\n",
    "# 以下のコードでは randint で生成された種類の数字分しかダミー変数が作られないことに注意\n",
    "# 200次元の one-hot ではなく， 192次元等にランダムになる\n",
    "# id_labels = pd.get_dummies(np.random.randint(200, size=640)).values.astype(float)\n",
    "# pose_labels = pd.get_dummies(np.random.randint(9, size=640)).values.astype(float)"
   ]
  },
  {
   "cell_type": "markdown",
   "metadata": {},
   "source": [
    "# 訓練の実行"
   ]
  },
  {
   "cell_type": "code",
   "execution_count": 7,
   "metadata": {
    "collapsed": true
   },
   "outputs": [],
   "source": [
    "# Discriminator の正解率を算出し， 指定した以上の正解率であれば， 十分強いとみなす\n",
    "\n",
    "def Is_D_strong(real_output, syn_output, id_label_tensor, pose_label_tensor, syn_id_label_tensor, Nd, batch_size, thresh=0.9):\n",
    "    # Discriminator の正解率を算出\n",
    "    _, id_real_ans = torch.max(real_output[:, :Nd+1], 1)\n",
    "    _, pose_real_ans = torch.max(real_output[:, Nd+1:], 1)\n",
    "    _, id_syn_ans = torch.max(syn_output[:, :Nd+1], 1)\n",
    "\n",
    "    id_real_precision = (id_real_ans==id_label_tensor).type(torch.FloatTensor).sum() / batch_size\n",
    "    pose_real_precision = (pose_real_ans==pose_label_tensor).type(torch.FloatTensor).sum() / batch_size\n",
    "    id_syn_precision = (id_syn_ans==syn_id_label_tensor).type(torch.FloatTensor).sum() / batch_size\n",
    "    \n",
    "    total_precision = (id_real_precision+pose_real_precision+id_syn_precision)/3\n",
    "    \n",
    "    # Variable(FloatTensor) -> Float へと変換\n",
    "    total_precision = total_precision.data[0]\n",
    "    \n",
    "    if total_precision>=thresh:\n",
    "        flag_D_strong = True\n",
    "    else:\n",
    "        flag_D_strong = True\n",
    "    \n",
    "    return flag_D_strong"
   ]
  },
  {
   "cell_type": "code",
   "execution_count": 9,
   "metadata": {
    "collapsed": false
   },
   "outputs": [
    {
     "name": "stdout",
     "output_type": "stream",
     "text": [
      "EPOCH : 0, D : 12.868635177612305\n",
      "EPOCH : 0, G : 7.460299491882324\n",
      "EPOCH : 0, G : 7.461559295654297\n",
      "EPOCH : 0, G : 7.528427600860596\n",
      "EPOCH : 0, G : 7.423952102661133\n",
      "EPOCH : 0, D : 12.744059562683105\n",
      "EPOCH : 0, G : 7.513713836669922\n",
      "EPOCH : 0, G : 7.490902900695801\n",
      "EPOCH : 0, G : 7.577789306640625\n",
      "EPOCH : 0, G : 7.497437477111816\n"
     ]
    },
    {
     "name": "stderr",
     "output_type": "stream",
     "text": [
      "/Users/a_shika/.pyenv/versions/3.6.1/lib/python3.6/site-packages/torch/serialization.py:147: UserWarning: Couldn't retrieve source code for container of type Discriminator. It won't be checked for correctness upon loading.\n",
      "  \"type \" + obj.__name__ + \". It won't be checked \"\n",
      "/Users/a_shika/.pyenv/versions/3.6.1/lib/python3.6/site-packages/torch/serialization.py:147: UserWarning: Couldn't retrieve source code for container of type Generator. It won't be checked for correctness upon loading.\n",
      "  \"type \" + obj.__name__ + \". It won't be checked \"\n",
      "/Users/a_shika/.pyenv/versions/3.6.1/lib/python3.6/site-packages/torch/serialization.py:147: UserWarning: Couldn't retrieve source code for container of type Crop. It won't be checked for correctness upon loading.\n",
      "  \"type \" + obj.__name__ + \". It won't be checked \"\n"
     ]
    },
    {
     "name": "stdout",
     "output_type": "stream",
     "text": [
      "EPOCH : 1, D : 12.00094223022461\n",
      "EPOCH : 1, G : 7.533315658569336\n",
      "EPOCH : 1, G : 7.535632610321045\n"
     ]
    },
    {
     "ename": "KeyboardInterrupt",
     "evalue": "",
     "output_type": "error",
     "traceback": [
      "\u001b[0;31m---------------------------------------------------------------------------\u001b[0m",
      "\u001b[0;31mKeyboardInterrupt\u001b[0m                         Traceback (most recent call last)",
      "\u001b[0;32m<ipython-input-9-2c895a948f56>\u001b[0m in \u001b[0;36m<module>\u001b[0;34m()\u001b[0m\n\u001b[1;32m     47\u001b[0m \u001b[0;34m\u001b[0m\u001b[0m\n\u001b[1;32m     48\u001b[0m         \u001b[0;31m# Generatorでイメージ生成\u001b[0m\u001b[0;34m\u001b[0m\u001b[0;34m\u001b[0m\u001b[0m\n\u001b[0;32m---> 49\u001b[0;31m         \u001b[0mgenerated\u001b[0m \u001b[0;34m=\u001b[0m \u001b[0mG\u001b[0m\u001b[0;34m(\u001b[0m\u001b[0mimg_tensor\u001b[0m\u001b[0;34m,\u001b[0m \u001b[0mpose_code_tensor\u001b[0m\u001b[0;34m,\u001b[0m \u001b[0mfixed_noise_tensor\u001b[0m\u001b[0;34m)\u001b[0m\u001b[0;34m\u001b[0m\u001b[0m\n\u001b[0m\u001b[1;32m     50\u001b[0m \u001b[0;34m\u001b[0m\u001b[0m\n\u001b[1;32m     51\u001b[0m         \u001b[0;31m# バッチ毎に交互に D と G の学習，　Dが90%以上の精度の場合は 1:4の比率で学習\u001b[0m\u001b[0;34m\u001b[0m\u001b[0;34m\u001b[0m\u001b[0m\n",
      "\u001b[0;32m/Users/a_shika/.pyenv/versions/3.6.1/lib/python3.6/site-packages/torch/nn/modules/module.py\u001b[0m in \u001b[0;36m__call__\u001b[0;34m(self, *input, **kwargs)\u001b[0m\n\u001b[1;32m    222\u001b[0m         \u001b[0;32mfor\u001b[0m \u001b[0mhook\u001b[0m \u001b[0;32min\u001b[0m \u001b[0mself\u001b[0m\u001b[0;34m.\u001b[0m\u001b[0m_forward_pre_hooks\u001b[0m\u001b[0;34m.\u001b[0m\u001b[0mvalues\u001b[0m\u001b[0;34m(\u001b[0m\u001b[0;34m)\u001b[0m\u001b[0;34m:\u001b[0m\u001b[0;34m\u001b[0m\u001b[0m\n\u001b[1;32m    223\u001b[0m             \u001b[0mhook\u001b[0m\u001b[0;34m(\u001b[0m\u001b[0mself\u001b[0m\u001b[0;34m,\u001b[0m \u001b[0minput\u001b[0m\u001b[0;34m)\u001b[0m\u001b[0;34m\u001b[0m\u001b[0m\n\u001b[0;32m--> 224\u001b[0;31m         \u001b[0mresult\u001b[0m \u001b[0;34m=\u001b[0m \u001b[0mself\u001b[0m\u001b[0;34m.\u001b[0m\u001b[0mforward\u001b[0m\u001b[0;34m(\u001b[0m\u001b[0;34m*\u001b[0m\u001b[0minput\u001b[0m\u001b[0;34m,\u001b[0m \u001b[0;34m**\u001b[0m\u001b[0mkwargs\u001b[0m\u001b[0;34m)\u001b[0m\u001b[0;34m\u001b[0m\u001b[0m\n\u001b[0m\u001b[1;32m    225\u001b[0m         \u001b[0;32mfor\u001b[0m \u001b[0mhook\u001b[0m \u001b[0;32min\u001b[0m \u001b[0mself\u001b[0m\u001b[0;34m.\u001b[0m\u001b[0m_forward_hooks\u001b[0m\u001b[0;34m.\u001b[0m\u001b[0mvalues\u001b[0m\u001b[0;34m(\u001b[0m\u001b[0;34m)\u001b[0m\u001b[0;34m:\u001b[0m\u001b[0;34m\u001b[0m\u001b[0m\n\u001b[1;32m    226\u001b[0m             \u001b[0mhook_result\u001b[0m \u001b[0;34m=\u001b[0m \u001b[0mhook\u001b[0m\u001b[0;34m(\u001b[0m\u001b[0mself\u001b[0m\u001b[0;34m,\u001b[0m \u001b[0minput\u001b[0m\u001b[0;34m,\u001b[0m \u001b[0mresult\u001b[0m\u001b[0;34m)\u001b[0m\u001b[0;34m\u001b[0m\u001b[0m\n",
      "\u001b[0;32m<ipython-input-5-2d22eeda883a>\u001b[0m in \u001b[0;36mforward\u001b[0;34m(self, input, pose, noise)\u001b[0m\n\u001b[1;32m    121\u001b[0m     \u001b[0;32mdef\u001b[0m \u001b[0mforward\u001b[0m\u001b[0;34m(\u001b[0m\u001b[0mself\u001b[0m\u001b[0;34m,\u001b[0m \u001b[0minput\u001b[0m\u001b[0;34m,\u001b[0m \u001b[0mpose\u001b[0m\u001b[0;34m,\u001b[0m \u001b[0mnoise\u001b[0m\u001b[0;34m)\u001b[0m\u001b[0;34m:\u001b[0m\u001b[0;34m\u001b[0m\u001b[0m\n\u001b[1;32m    122\u001b[0m \u001b[0;34m\u001b[0m\u001b[0m\n\u001b[0;32m--> 123\u001b[0;31m         \u001b[0mx\u001b[0m \u001b[0;34m=\u001b[0m \u001b[0mself\u001b[0m\u001b[0;34m.\u001b[0m\u001b[0mG_enc_convLayers\u001b[0m\u001b[0;34m(\u001b[0m\u001b[0minput\u001b[0m\u001b[0;34m)\u001b[0m \u001b[0;31m# Bx1x96x96 -> Bx320x1x1\u001b[0m\u001b[0;34m\u001b[0m\u001b[0m\n\u001b[0m\u001b[1;32m    124\u001b[0m \u001b[0;34m\u001b[0m\u001b[0m\n\u001b[1;32m    125\u001b[0m         \u001b[0mx\u001b[0m \u001b[0;34m=\u001b[0m \u001b[0mx\u001b[0m\u001b[0;34m.\u001b[0m\u001b[0msqueeze\u001b[0m\u001b[0;34m(\u001b[0m\u001b[0;36m2\u001b[0m\u001b[0;34m)\u001b[0m\u001b[0;34m\u001b[0m\u001b[0m\n",
      "\u001b[0;32m/Users/a_shika/.pyenv/versions/3.6.1/lib/python3.6/site-packages/torch/nn/modules/module.py\u001b[0m in \u001b[0;36m__call__\u001b[0;34m(self, *input, **kwargs)\u001b[0m\n\u001b[1;32m    222\u001b[0m         \u001b[0;32mfor\u001b[0m \u001b[0mhook\u001b[0m \u001b[0;32min\u001b[0m \u001b[0mself\u001b[0m\u001b[0;34m.\u001b[0m\u001b[0m_forward_pre_hooks\u001b[0m\u001b[0;34m.\u001b[0m\u001b[0mvalues\u001b[0m\u001b[0;34m(\u001b[0m\u001b[0;34m)\u001b[0m\u001b[0;34m:\u001b[0m\u001b[0;34m\u001b[0m\u001b[0m\n\u001b[1;32m    223\u001b[0m             \u001b[0mhook\u001b[0m\u001b[0;34m(\u001b[0m\u001b[0mself\u001b[0m\u001b[0;34m,\u001b[0m \u001b[0minput\u001b[0m\u001b[0;34m)\u001b[0m\u001b[0;34m\u001b[0m\u001b[0m\n\u001b[0;32m--> 224\u001b[0;31m         \u001b[0mresult\u001b[0m \u001b[0;34m=\u001b[0m \u001b[0mself\u001b[0m\u001b[0;34m.\u001b[0m\u001b[0mforward\u001b[0m\u001b[0;34m(\u001b[0m\u001b[0;34m*\u001b[0m\u001b[0minput\u001b[0m\u001b[0;34m,\u001b[0m \u001b[0;34m**\u001b[0m\u001b[0mkwargs\u001b[0m\u001b[0;34m)\u001b[0m\u001b[0;34m\u001b[0m\u001b[0m\n\u001b[0m\u001b[1;32m    225\u001b[0m         \u001b[0;32mfor\u001b[0m \u001b[0mhook\u001b[0m \u001b[0;32min\u001b[0m \u001b[0mself\u001b[0m\u001b[0;34m.\u001b[0m\u001b[0m_forward_hooks\u001b[0m\u001b[0;34m.\u001b[0m\u001b[0mvalues\u001b[0m\u001b[0;34m(\u001b[0m\u001b[0;34m)\u001b[0m\u001b[0;34m:\u001b[0m\u001b[0;34m\u001b[0m\u001b[0m\n\u001b[1;32m    226\u001b[0m             \u001b[0mhook_result\u001b[0m \u001b[0;34m=\u001b[0m \u001b[0mhook\u001b[0m\u001b[0;34m(\u001b[0m\u001b[0mself\u001b[0m\u001b[0;34m,\u001b[0m \u001b[0minput\u001b[0m\u001b[0;34m,\u001b[0m \u001b[0mresult\u001b[0m\u001b[0;34m)\u001b[0m\u001b[0;34m\u001b[0m\u001b[0m\n",
      "\u001b[0;32m/Users/a_shika/.pyenv/versions/3.6.1/lib/python3.6/site-packages/torch/nn/modules/container.py\u001b[0m in \u001b[0;36mforward\u001b[0;34m(self, input)\u001b[0m\n\u001b[1;32m     65\u001b[0m     \u001b[0;32mdef\u001b[0m \u001b[0mforward\u001b[0m\u001b[0;34m(\u001b[0m\u001b[0mself\u001b[0m\u001b[0;34m,\u001b[0m \u001b[0minput\u001b[0m\u001b[0;34m)\u001b[0m\u001b[0;34m:\u001b[0m\u001b[0;34m\u001b[0m\u001b[0m\n\u001b[1;32m     66\u001b[0m         \u001b[0;32mfor\u001b[0m \u001b[0mmodule\u001b[0m \u001b[0;32min\u001b[0m \u001b[0mself\u001b[0m\u001b[0;34m.\u001b[0m\u001b[0m_modules\u001b[0m\u001b[0;34m.\u001b[0m\u001b[0mvalues\u001b[0m\u001b[0;34m(\u001b[0m\u001b[0;34m)\u001b[0m\u001b[0;34m:\u001b[0m\u001b[0;34m\u001b[0m\u001b[0m\n\u001b[0;32m---> 67\u001b[0;31m             \u001b[0minput\u001b[0m \u001b[0;34m=\u001b[0m \u001b[0mmodule\u001b[0m\u001b[0;34m(\u001b[0m\u001b[0minput\u001b[0m\u001b[0;34m)\u001b[0m\u001b[0;34m\u001b[0m\u001b[0m\n\u001b[0m\u001b[1;32m     68\u001b[0m         \u001b[0;32mreturn\u001b[0m \u001b[0minput\u001b[0m\u001b[0;34m\u001b[0m\u001b[0m\n\u001b[1;32m     69\u001b[0m \u001b[0;34m\u001b[0m\u001b[0m\n",
      "\u001b[0;32m/Users/a_shika/.pyenv/versions/3.6.1/lib/python3.6/site-packages/torch/nn/modules/module.py\u001b[0m in \u001b[0;36m__call__\u001b[0;34m(self, *input, **kwargs)\u001b[0m\n\u001b[1;32m    222\u001b[0m         \u001b[0;32mfor\u001b[0m \u001b[0mhook\u001b[0m \u001b[0;32min\u001b[0m \u001b[0mself\u001b[0m\u001b[0;34m.\u001b[0m\u001b[0m_forward_pre_hooks\u001b[0m\u001b[0;34m.\u001b[0m\u001b[0mvalues\u001b[0m\u001b[0;34m(\u001b[0m\u001b[0;34m)\u001b[0m\u001b[0;34m:\u001b[0m\u001b[0;34m\u001b[0m\u001b[0m\n\u001b[1;32m    223\u001b[0m             \u001b[0mhook\u001b[0m\u001b[0;34m(\u001b[0m\u001b[0mself\u001b[0m\u001b[0;34m,\u001b[0m \u001b[0minput\u001b[0m\u001b[0;34m)\u001b[0m\u001b[0;34m\u001b[0m\u001b[0m\n\u001b[0;32m--> 224\u001b[0;31m         \u001b[0mresult\u001b[0m \u001b[0;34m=\u001b[0m \u001b[0mself\u001b[0m\u001b[0;34m.\u001b[0m\u001b[0mforward\u001b[0m\u001b[0;34m(\u001b[0m\u001b[0;34m*\u001b[0m\u001b[0minput\u001b[0m\u001b[0;34m,\u001b[0m \u001b[0;34m**\u001b[0m\u001b[0mkwargs\u001b[0m\u001b[0;34m)\u001b[0m\u001b[0;34m\u001b[0m\u001b[0m\n\u001b[0m\u001b[1;32m    225\u001b[0m         \u001b[0;32mfor\u001b[0m \u001b[0mhook\u001b[0m \u001b[0;32min\u001b[0m \u001b[0mself\u001b[0m\u001b[0;34m.\u001b[0m\u001b[0m_forward_hooks\u001b[0m\u001b[0;34m.\u001b[0m\u001b[0mvalues\u001b[0m\u001b[0;34m(\u001b[0m\u001b[0;34m)\u001b[0m\u001b[0;34m:\u001b[0m\u001b[0;34m\u001b[0m\u001b[0m\n\u001b[1;32m    226\u001b[0m             \u001b[0mhook_result\u001b[0m \u001b[0;34m=\u001b[0m \u001b[0mhook\u001b[0m\u001b[0;34m(\u001b[0m\u001b[0mself\u001b[0m\u001b[0;34m,\u001b[0m \u001b[0minput\u001b[0m\u001b[0;34m,\u001b[0m \u001b[0mresult\u001b[0m\u001b[0;34m)\u001b[0m\u001b[0;34m\u001b[0m\u001b[0m\n",
      "\u001b[0;32m/Users/a_shika/.pyenv/versions/3.6.1/lib/python3.6/site-packages/torch/nn/modules/conv.py\u001b[0m in \u001b[0;36mforward\u001b[0;34m(self, input)\u001b[0m\n\u001b[1;32m    252\u001b[0m     \u001b[0;32mdef\u001b[0m \u001b[0mforward\u001b[0m\u001b[0;34m(\u001b[0m\u001b[0mself\u001b[0m\u001b[0;34m,\u001b[0m \u001b[0minput\u001b[0m\u001b[0;34m)\u001b[0m\u001b[0;34m:\u001b[0m\u001b[0;34m\u001b[0m\u001b[0m\n\u001b[1;32m    253\u001b[0m         return F.conv2d(input, self.weight, self.bias, self.stride,\n\u001b[0;32m--> 254\u001b[0;31m                         self.padding, self.dilation, self.groups)\n\u001b[0m\u001b[1;32m    255\u001b[0m \u001b[0;34m\u001b[0m\u001b[0m\n\u001b[1;32m    256\u001b[0m \u001b[0;34m\u001b[0m\u001b[0m\n",
      "\u001b[0;32m/Users/a_shika/.pyenv/versions/3.6.1/lib/python3.6/site-packages/torch/nn/functional.py\u001b[0m in \u001b[0;36mconv2d\u001b[0;34m(input, weight, bias, stride, padding, dilation, groups)\u001b[0m\n\u001b[1;32m     50\u001b[0m     f = ConvNd(_pair(stride), _pair(padding), _pair(dilation), False,\n\u001b[1;32m     51\u001b[0m                _pair(0), groups, torch.backends.cudnn.benchmark, torch.backends.cudnn.enabled)\n\u001b[0;32m---> 52\u001b[0;31m     \u001b[0;32mreturn\u001b[0m \u001b[0mf\u001b[0m\u001b[0;34m(\u001b[0m\u001b[0minput\u001b[0m\u001b[0;34m,\u001b[0m \u001b[0mweight\u001b[0m\u001b[0;34m,\u001b[0m \u001b[0mbias\u001b[0m\u001b[0;34m)\u001b[0m\u001b[0;34m\u001b[0m\u001b[0m\n\u001b[0m\u001b[1;32m     53\u001b[0m \u001b[0;34m\u001b[0m\u001b[0m\n\u001b[1;32m     54\u001b[0m \u001b[0;34m\u001b[0m\u001b[0m\n",
      "\u001b[0;31mKeyboardInterrupt\u001b[0m: "
     ]
    }
   ],
   "source": [
    "batch_size = 5 \n",
    "total_epoch = 10000\n",
    "image_size = images.shape[0]\n",
    "epoch_time = np.ceil(image_size / batch_size).astype(int)\n",
    "\n",
    "Nd = 200 # number of ID (person)\n",
    "Np = 9 # number of discrite poses\n",
    "Nz = 50 # number of noise dimension\n",
    "\n",
    "lr_Adam = 0.0002\n",
    "m_Adam = 0.5\n",
    "flag_D_strong  = False\n",
    "\n",
    "D = Discriminator(Nd, Np)\n",
    "G = Generator(Np, Nz)\n",
    "optimizer_D = optim.Adam(D.parameters())\n",
    "optimizer_G = optim.Adam(G.parameters())\n",
    "loss_criterion = nn.CrossEntropyLoss()\n",
    "\n",
    "for epoch in range(total_epoch):\n",
    "    for i in range(epoch_time):\n",
    "        D.zero_grad()\n",
    "        G.zero_grad()\n",
    "        start = i*batch_size\n",
    "        end = start + batch_size\n",
    "        batch_image = images[start:end]\n",
    "        batch_id_label = id_labels[start:end]\n",
    "        batch_pose_label = pose_labels[start:end]\n",
    "        minibatch_size = len(batch_image)\n",
    "        \n",
    "        \n",
    "        # 学習の中で使われるVariable変数の定義\n",
    "        # ラベルの定義(CrossEntropy 誤差で用いる際は FloatTensorでは☓)\n",
    "        img_tensor = Variable(torch.FloatTensor(batch_image))\n",
    "        id_label_tensor = Variable(torch.LongTensor(batch_id_label))\n",
    "        pose_label_tensor = Variable(torch.LongTensor(batch_pose_label))\n",
    "        syn_id_labels = Nd*np.ones(minibatch_size).astype(int)\n",
    "        syn_id_label_tensor = Variable(torch.LongTensor(syn_id_labels))\n",
    "        \n",
    "        # ノイズと姿勢コードを生成\n",
    "        fixed_noise_tensor = Variable(torch.FloatTensor(np.random.uniform(-1,1, (minibatch_size, Nz))))\n",
    "        pose_code = np.zeros((minibatch_size, Np))\n",
    "        tmp  = np.random.randint(Np, size=minibatch_size)\n",
    "        pose_code[:, tmp] = 1\n",
    "        pose_code_label_tensor = Variable(torch.LongTensor(tmp)) # CrossEntropy 誤差に使用\n",
    "        pose_code_tensor = Variable(torch.FloatTensor(pose_code)) # Condition 付に使用\n",
    "        \n",
    "        # Generatorでイメージ生成\n",
    "        generated = G(img_tensor, pose_code_tensor, fixed_noise_tensor)\n",
    "        \n",
    "        # バッチ毎に交互に D と G の学習，　Dが90%以上の精度の場合は 1:4の比率で学習\n",
    "        if flag_D_strong:\n",
    "\n",
    "            if i%5 == 0:\n",
    "                # Discriminator の学習\n",
    "                real_output = D(img_tensor)\n",
    "                syn_output = D(generated.detach()) # .detach() をすることでGeneratorのパラメータを更新しない\n",
    "\n",
    "                # id についての出力とラベル, pose についての出力とラベル それぞれの交差エントロピー誤差を計算\n",
    "                d_loss = loss_criterion(real_output[:, :Nd+1], id_label_tensor) +\\\n",
    "                                        loss_criterion(real_output[:, Nd+1:], pose_label_tensor) +\\\n",
    "                                        loss_criterion(syn_output[:, :Nd+1], syn_id_label_tensor)\n",
    "                \n",
    "                d_loss.backward()\n",
    "                optimizer_D.step()\n",
    "                print(\"EPOCH : {0}, D : {1}\".format(epoch, d_loss.data[0]))\n",
    "                \n",
    "                # Discriminator の強さを判別\n",
    "                flag_D_strong = Is_D_strong(real_output, syn_output, id_label_tensor, pose_label_tensor, syn_id_label_tensor, Nd, minibatch_size)\n",
    "                \n",
    "            else:\n",
    "                # Generatorの学習\n",
    "                syn_output=D(generated)\n",
    "\n",
    "                # id についての出力と元画像のラベル, poseについての出力と生成時に与えたposeコード それぞれの交差エントロピー誤差を計算\n",
    "                g_loss = loss_criterion(syn_output[:, :Nd+1], id_label_tensor) +\\\n",
    "                    loss_criterion(syn_output[:, Nd+1:], pose_code_label_tensor)\n",
    "\n",
    "                optimizer_G.step()\n",
    "                print(\"EPOCH : {0}, G : {1}\".format(epoch, g_loss.data[0]))\n",
    "        \n",
    "        else:\n",
    "\n",
    "            if i%2==0:\n",
    "                # Discriminator の学習\n",
    "                real_output = D(img_tensor)\n",
    "                syn_output = D(generated.detach()) # .detach() をすることでGeneratorのパラメータを更新しない\n",
    "\n",
    "                # id についての出力とラベル, pose についての出力とラベル それぞれの交差エントロピー誤差を計算\n",
    "                d_loss = loss_criterion(real_output[:, :Nd+1], id_label_tensor) +\\\n",
    "                                        loss_criterion(real_output[:, Nd+1:], pose_label_tensor) +\\\n",
    "                                        loss_criterion(syn_output[:, :Nd+1], syn_id_label_tensor)\n",
    "\n",
    "                d_loss.backward()\n",
    "                optimizer_D.step()\n",
    "                print(\"EPOCH : {0}, D : {1}\".format(epoch, d_loss.data[0]))\n",
    "                \n",
    "                # Discriminator の強さを判別\n",
    "                flag_D_strong = Is_D_strong(real_output, syn_output, id_label_tensor, pose_label_tensor, syn_id_label_tensor, Nd, minibatch_size)\n",
    "                \n",
    "            else:\n",
    "                # Generatorの学習\n",
    "                syn_output=D(generated)\n",
    "\n",
    "                # id についての出力と元画像のラベル, poseについての出力と生成時に与えたposeコード それぞれの交差エントロピー誤差を計算\n",
    "                g_loss = loss_criterion(syn_output[:, :Nd+1], id_label_tensor) +\\\n",
    "                    loss_criterion(syn_output[:, Nd+1:], pose_code_label_tensor)\n",
    "\n",
    "                optimizer_G.step()\n",
    "                print(\"EPOCH : {0}, G : {1}\".format(epoch, g_loss.data[0]))\n",
    "        \n",
    "\n",
    "    \n",
    "    \n",
    "    # 各エポックで学習したモデルを保存， 学習した生成器から画像を生成して保存\n",
    "    torch.save(D, \"D.model\")\n",
    "    torch.save(G, \"G.model\")"
   ]
  },
  {
   "cell_type": "code",
   "execution_count": 31,
   "metadata": {
    "collapsed": false
   },
   "outputs": [
    {
     "name": "stderr",
     "output_type": "stream",
     "text": [
      "/Users/a_shika/.pyenv/versions/3.6.1/lib/python3.6/site-packages/torch/serialization.py:147: UserWarning: Couldn't retrieve source code for container of type Discriminator. It won't be checked for correctness upon loading.\n",
      "  \"type \" + obj.__name__ + \". It won't be checked \"\n"
     ]
    }
   ],
   "source": [
    "import os\n",
    "import sys\n",
    "import datetime\n",
    "\n",
    "sd = \".\"\n",
    "sd = os.path.join(sd, datetime.datetime.now().strftime('%Y-%m-%d_%H-%M-%S'))\n",
    "sd = os.path.join(sd, 'snapshot')\n",
    "os.makedirs(sd)\n",
    "save_path = '{}_steps{}.pt'.format(sd, 1)\n",
    "torch.save(D, save_path)"
   ]
  },
  {
   "cell_type": "code",
   "execution_count": 35,
   "metadata": {
    "collapsed": false
   },
   "outputs": [
    {
     "name": "stdout",
     "output_type": "stream",
     "text": [
      "2017-09-22_16-58-19/snapshot_steps1.pt\r\n"
     ]
    }
   ],
   "source": [
    "ls 2017-09-22_16-58-19/snapshot_steps1.pt\n"
   ]
  },
  {
   "cell_type": "code",
   "execution_count": 36,
   "metadata": {
    "collapsed": true
   },
   "outputs": [],
   "source": [
    "D = torch.load(\"./2017-09-22_16-58-19/snapshot_steps1.pt\")"
   ]
  },
  {
   "cell_type": "code",
   "execution_count": 37,
   "metadata": {
    "collapsed": false
   },
   "outputs": [
    {
     "data": {
      "text/plain": [
       "Discriminator (\n",
       "  (convLayers): Sequential (\n",
       "    (0): Conv2d(3, 32, kernel_size=(3, 3), stride=(1, 1), padding=(1, 1), bias=False)\n",
       "    (1): BatchNorm2d(32, eps=1e-05, momentum=0.1, affine=True)\n",
       "    (2): ELU (alpha=1.0)\n",
       "    (3): Conv2d(32, 64, kernel_size=(3, 3), stride=(1, 1), padding=(1, 1), bias=False)\n",
       "    (4): BatchNorm2d(64, eps=1e-05, momentum=0.1, affine=True)\n",
       "    (5): ELU (alpha=1.0)\n",
       "    (6): ZeroPad2d (0, 1, 0, 1)\n",
       "    (7): Conv2d(64, 64, kernel_size=(3, 3), stride=(2, 2), bias=False)\n",
       "    (8): BatchNorm2d(64, eps=1e-05, momentum=0.1, affine=True)\n",
       "    (9): ELU (alpha=1.0)\n",
       "    (10): Conv2d(64, 64, kernel_size=(3, 3), stride=(1, 1), padding=(1, 1), bias=False)\n",
       "    (11): BatchNorm2d(64, eps=1e-05, momentum=0.1, affine=True)\n",
       "    (12): ELU (alpha=1.0)\n",
       "    (13): Conv2d(64, 128, kernel_size=(3, 3), stride=(1, 1), padding=(1, 1), bias=False)\n",
       "    (14): BatchNorm2d(128, eps=1e-05, momentum=0.1, affine=True)\n",
       "    (15): ELU (alpha=1.0)\n",
       "    (16): ZeroPad2d (0, 1, 0, 1)\n",
       "    (17): Conv2d(128, 128, kernel_size=(3, 3), stride=(2, 2), bias=False)\n",
       "    (18): BatchNorm2d(128, eps=1e-05, momentum=0.1, affine=True)\n",
       "    (19): ELU (alpha=1.0)\n",
       "    (20): Conv2d(128, 96, kernel_size=(3, 3), stride=(1, 1), padding=(1, 1), bias=False)\n",
       "    (21): BatchNorm2d(96, eps=1e-05, momentum=0.1, affine=True)\n",
       "    (22): ELU (alpha=1.0)\n",
       "    (23): Conv2d(96, 192, kernel_size=(3, 3), stride=(1, 1), padding=(1, 1), bias=False)\n",
       "    (24): BatchNorm2d(192, eps=1e-05, momentum=0.1, affine=True)\n",
       "    (25): ELU (alpha=1.0)\n",
       "    (26): ZeroPad2d (0, 1, 0, 1)\n",
       "    (27): Conv2d(192, 192, kernel_size=(3, 3), stride=(2, 2), bias=False)\n",
       "    (28): BatchNorm2d(192, eps=1e-05, momentum=0.1, affine=True)\n",
       "    (29): ELU (alpha=1.0)\n",
       "    (30): Conv2d(192, 128, kernel_size=(3, 3), stride=(1, 1), padding=(1, 1), bias=False)\n",
       "    (31): BatchNorm2d(128, eps=1e-05, momentum=0.1, affine=True)\n",
       "    (32): ELU (alpha=1.0)\n",
       "    (33): Conv2d(128, 256, kernel_size=(3, 3), stride=(1, 1), padding=(1, 1), bias=False)\n",
       "    (34): BatchNorm2d(256, eps=1e-05, momentum=0.1, affine=True)\n",
       "    (35): ELU (alpha=1.0)\n",
       "    (36): ZeroPad2d (0, 1, 0, 1)\n",
       "    (37): Conv2d(256, 256, kernel_size=(3, 3), stride=(2, 2), bias=False)\n",
       "    (38): BatchNorm2d(256, eps=1e-05, momentum=0.1, affine=True)\n",
       "    (39): ELU (alpha=1.0)\n",
       "    (40): Conv2d(256, 160, kernel_size=(3, 3), stride=(1, 1), padding=(1, 1), bias=False)\n",
       "    (41): BatchNorm2d(160, eps=1e-05, momentum=0.1, affine=True)\n",
       "    (42): ELU (alpha=1.0)\n",
       "    (43): Conv2d(160, 320, kernel_size=(3, 3), stride=(1, 1), padding=(1, 1), bias=False)\n",
       "    (44): BatchNorm2d(320, eps=1e-05, momentum=0.1, affine=True)\n",
       "    (45): ELU (alpha=1.0)\n",
       "    (46): AvgPool2d (size=6, stride=1, padding=0, ceil_mode=False, count_include_pad=True)\n",
       "  )\n",
       "  (fc): Linear (320 -> 210)\n",
       ")"
      ]
     },
     "execution_count": 37,
     "metadata": {},
     "output_type": "execute_result"
    }
   ],
   "source": [
    "D"
   ]
  },
  {
   "cell_type": "code",
   "execution_count": 61,
   "metadata": {
    "collapsed": false
   },
   "outputs": [],
   "source": [
    "import matplotlib.pyplot as plt\n",
    "%matplotlib inline\n",
    "\n",
    "log = []\n",
    "for i in range(1,1000):\n",
    "    log.append([i, np.random.randint(i), np.random.randint(i)])\n",
    "\n",
    "log = np.array(log)\n",
    "\n",
    "plt.plot(log[:,1], label=\"Discriminative Loss\")\n",
    "plt.plot(log[:,2], label=\"Generative Loss\")\n",
    "    "
   ]
  },
  {
   "cell_type": "code",
   "execution_count": 64,
   "metadata": {
    "collapsed": false
   },
   "outputs": [
    {
     "data": {
      "text/plain": [
       "[<matplotlib.lines.Line2D at 0x1178ca5f8>]"
      ]
     },
     "execution_count": 64,
     "metadata": {},
     "output_type": "execute_result"
    },
    {
     "data": {
      "image/png": "[encoded data removed]",
      "text/plain": [
       "<matplotlib.figure.Figure at 0x1178ca6d8>"
      ]
     },
     "metadata": {},
     "output_type": "display_data"
    }
   ],
   "source": [
    "plt.plot(log[:,1])\n",
    "plt.plot(log[:,2])"
   ]
  },
  {
   "cell_type": "code",
   "execution_count": null,
   "metadata": {
    "collapsed": true
   },
   "outputs": [],
   "source": []
  }
 ],
 "metadata": {
  "kernelspec": {
   "display_name": "Python 3",
   "language": "python",
   "name": "python3"
  },
  "language_info": {
   "codemirror_mode": {
    "name": "ipython",
    "version": 3
   },
   "file_extension": ".py",
   "mimetype": "text/x-python",
   "name": "python",
   "nbconvert_exporter": "python",
   "pygments_lexer": "ipython3",
   "version": "3.6.1"
  }
 },
 "nbformat": 4,
 "nbformat_minor": 2
}
